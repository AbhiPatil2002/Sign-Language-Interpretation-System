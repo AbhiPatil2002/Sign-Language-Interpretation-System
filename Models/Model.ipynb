{
 "cells": [
  {
   "cell_type": "markdown",
   "metadata": {},
   "source": [
    "### Importing the Libraries"
   ]
  },
  {
   "cell_type": "code",
   "execution_count": 1,
   "metadata": {},
   "outputs": [],
   "source": [
    "import tensorflow as tf\n",
    "from keras.preprocessing.image import ImageDataGenerator\n",
    "import os\n",
    "os.environ[\"CUDA_VISIBLE_DEVICES\"] = \"1\""
   ]
  },
  {
   "cell_type": "code",
   "execution_count": 2,
   "metadata": {},
   "outputs": [
    {
     "data": {
      "text/plain": [
       "'2.13.0'"
      ]
     },
     "execution_count": 2,
     "metadata": {},
     "output_type": "execute_result"
    }
   ],
   "source": [
    "tf.__version__ "
   ]
  },
  {
   "cell_type": "markdown",
   "metadata": {},
   "source": [
    "### Part 1 - Data Preprocessing"
   ]
  },
  {
   "cell_type": "markdown",
   "metadata": {},
   "source": [
    "#### Generating images for the Training set"
   ]
  },
  {
   "cell_type": "code",
   "execution_count": 3,
   "metadata": {},
   "outputs": [],
   "source": [
    "train_datagen = ImageDataGenerator(rescale = 1./255,\n",
    "                                   shear_range = 0.2,\n",
    "                                   zoom_range = 0.2,\n",
    "                                   horizontal_flip = True)"
   ]
  },
  {
   "cell_type": "markdown",
   "metadata": {},
   "source": [
    "#### Generating images for the Test set"
   ]
  },
  {
   "cell_type": "code",
   "execution_count": 4,
   "metadata": {},
   "outputs": [],
   "source": [
    "test_datagen = ImageDataGenerator(rescale = 1./255)"
   ]
  },
  {
   "cell_type": "markdown",
   "metadata": {},
   "source": [
    "### Creating the Training set"
   ]
  },
  {
   "cell_type": "code",
   "execution_count": 5,
   "metadata": {},
   "outputs": [
    {
     "name": "stdout",
     "output_type": "stream",
     "text": [
      "Found 12845 images belonging to 27 classes.\n"
     ]
    }
   ],
   "source": [
    "training_set = train_datagen.flow_from_directory(r'C:/Users/ABHISHEK PATIL/Mega Project/Sign-Language-To-Text-Conversion-main\\dataSet/trainingData',\n",
    "                                                 target_size=(128, 128),\n",
    "                                                 batch_size=5,\n",
    "                                                 color_mode='grayscale',\n",
    "                                                 class_mode='categorical')\n"
   ]
  },
  {
   "cell_type": "code",
   "execution_count": 6,
   "metadata": {},
   "outputs": [
    {
     "name": "stdout",
     "output_type": "stream",
     "text": [
      "Found 4268 images belonging to 27 classes.\n"
     ]
    }
   ],
   "source": [
    "test_set = test_datagen.flow_from_directory(r'C:/Users/ABHISHEK PATIL/Mega Project/Sign-Language-To-Text-Conversion-main/dataSet/testingData',\n",
    "                                            target_size=(128, 128),\n",
    "                                            batch_size=5,\n",
    "                                            color_mode='grayscale',\n",
    "                                            class_mode='categorical')\n"
   ]
  },
  {
   "cell_type": "markdown",
   "metadata": {},
   "source": [
    "### Part 2 - Building the CNN"
   ]
  },
  {
   "cell_type": "markdown",
   "metadata": {},
   "source": [
    "#### Initializing the CNN"
   ]
  },
  {
   "cell_type": "code",
   "execution_count": 7,
   "metadata": {},
   "outputs": [],
   "source": [
    "classifier = tf.keras.models.Sequential()"
   ]
  },
  {
   "cell_type": "markdown",
   "metadata": {},
   "source": [
    "#### Step 1 - Convolution"
   ]
  },
  {
   "cell_type": "code",
   "execution_count": 8,
   "metadata": {},
   "outputs": [],
   "source": [
    "classifier.add(tf.keras.layers.Conv2D(filters=32,\n",
    "                                     kernel_size=3, \n",
    "                                     padding=\"same\", \n",
    "                                     activation=\"relu\", \n",
    "                                     input_shape=[128, 128, 1]))"
   ]
  },
  {
   "cell_type": "markdown",
   "metadata": {},
   "source": [
    "#### Step 2 - Pooling"
   ]
  },
  {
   "cell_type": "code",
   "execution_count": 9,
   "metadata": {},
   "outputs": [],
   "source": [
    "classifier.add(tf.keras.layers.MaxPool2D(pool_size=2, \n",
    "                                         strides=2, \n",
    "                                         padding='valid'))"
   ]
  },
  {
   "cell_type": "markdown",
   "metadata": {},
   "source": [
    "#### Adding a second convolutional layer"
   ]
  },
  {
   "cell_type": "code",
   "execution_count": 10,
   "metadata": {},
   "outputs": [],
   "source": [
    "classifier.add(tf.keras.layers.Conv2D(filters=64, \n",
    "                                      kernel_size=3, \n",
    "                                      padding=\"same\", \n",
    "                                      activation=\"relu\"))\n",
    "\n",
    "classifier.add(tf.keras.layers.MaxPool2D(pool_size=2, \n",
    "                                         strides=2, \n",
    "                                         padding='valid'))"
   ]
  },
  {
   "cell_type": "markdown",
   "metadata": {},
   "source": [
    "#### Step 3 - Flattening"
   ]
  },
  {
   "cell_type": "code",
   "execution_count": 11,
   "metadata": {},
   "outputs": [],
   "source": [
    "classifier.add(tf.keras.layers.Flatten())"
   ]
  },
  {
   "cell_type": "markdown",
   "metadata": {},
   "source": [
    "#### Step 4 - Full Connection"
   ]
  },
  {
   "cell_type": "code",
   "execution_count": 12,
   "metadata": {},
   "outputs": [],
   "source": [
    "classifier.add(tf.keras.layers.Dense(units=128, \n",
    "                                     activation='relu'))\n",
    "classifier.add(tf.keras.layers.Dropout(0.50))\n",
    "classifier.add(tf.keras.layers.Dense(units=96, activation='relu'))\n",
    "classifier.add(tf.keras.layers.Dropout(0.50))\n",
    "classifier.add(tf.keras.layers.Dense(units=64, activation='relu'))\n",
    "classifier.add(tf.keras.layers.Dense(units=27, activation='softmax')) # softmax for more than 2"
   ]
  },
  {
   "cell_type": "markdown",
   "metadata": {},
   "source": [
    "### Part 3 - Training the CNN"
   ]
  },
  {
   "cell_type": "markdown",
   "metadata": {},
   "source": [
    "#### Compiling the CNN"
   ]
  },
  {
   "cell_type": "code",
   "execution_count": 13,
   "metadata": {},
   "outputs": [],
   "source": [
    "classifier.compile(optimizer = 'adam', \n",
    "                   loss = 'categorical_crossentropy', \n",
    "                   metrics = ['accuracy'])"
   ]
  },
  {
   "cell_type": "markdown",
   "metadata": {},
   "source": [
    "#### Training the CNN on the Training set and evaluating it on the Test set"
   ]
  },
  {
   "cell_type": "code",
   "execution_count": 14,
   "metadata": {},
   "outputs": [
    {
     "name": "stdout",
     "output_type": "stream",
     "text": [
      "Model: \"sequential\"\n",
      "_________________________________________________________________\n",
      " Layer (type)                Output Shape              Param #   \n",
      "=================================================================\n",
      " conv2d (Conv2D)             (None, 128, 128, 32)      320       \n",
      "                                                                 \n",
      " max_pooling2d (MaxPooling2  (None, 64, 64, 32)        0         \n",
      " D)                                                              \n",
      "                                                                 \n",
      " conv2d_1 (Conv2D)           (None, 64, 64, 64)        18496     \n",
      "                                                                 \n",
      " max_pooling2d_1 (MaxPoolin  (None, 32, 32, 64)        0         \n",
      " g2D)                                                            \n",
      "                                                                 \n",
      " flatten (Flatten)           (None, 65536)             0         \n",
      "                                                                 \n",
      " dense (Dense)               (None, 128)               8388736   \n",
      "                                                                 \n",
      " dropout (Dropout)           (None, 128)               0         \n",
      "                                                                 \n",
      " dense_1 (Dense)             (None, 96)                12384     \n",
      "                                                                 \n",
      " dropout_1 (Dropout)         (None, 96)                0         \n",
      "                                                                 \n",
      " dense_2 (Dense)             (None, 64)                6208      \n",
      "                                                                 \n",
      " dense_3 (Dense)             (None, 27)                1755      \n",
      "                                                                 \n",
      "=================================================================\n",
      "Total params: 8427899 (32.15 MB)\n",
      "Trainable params: 8427899 (32.15 MB)\n",
      "Non-trainable params: 0 (0.00 Byte)\n",
      "_________________________________________________________________\n"
     ]
    }
   ],
   "source": [
    "classifier.summary()"
   ]
  },
  {
   "cell_type": "code",
   "execution_count": 15,
   "metadata": {},
   "outputs": [
    {
     "name": "stdout",
     "output_type": "stream",
     "text": [
      "Epoch 1/40\n",
      "2569/2569 [==============================] - 515s 200ms/step - loss: 2.5997 - accuracy: 0.2210 - val_loss: 0.7103 - val_accuracy: 0.8020\n",
      "Epoch 2/40\n",
      "2569/2569 [==============================] - 510s 199ms/step - loss: 1.1019 - accuracy: 0.6281 - val_loss: 0.2077 - val_accuracy: 0.9222\n",
      "Epoch 3/40\n",
      "2569/2569 [==============================] - 532s 207ms/step - loss: 0.7333 - accuracy: 0.7504 - val_loss: 0.1419 - val_accuracy: 0.9646\n",
      "Epoch 4/40\n",
      "2569/2569 [==============================] - 489s 190ms/step - loss: 0.5807 - accuracy: 0.8030 - val_loss: 0.0713 - val_accuracy: 0.9773\n",
      "Epoch 5/40\n",
      "2569/2569 [==============================] - 1142s 445ms/step - loss: 0.4935 - accuracy: 0.8360 - val_loss: 0.0483 - val_accuracy: 0.9864\n",
      "Epoch 6/40\n",
      "2569/2569 [==============================] - 511s 199ms/step - loss: 0.4325 - accuracy: 0.8588 - val_loss: 0.0165 - val_accuracy: 0.9977\n",
      "Epoch 7/40\n",
      "2569/2569 [==============================] - 2322s 904ms/step - loss: 0.3831 - accuracy: 0.8762 - val_loss: 0.0147 - val_accuracy: 0.9970\n",
      "Epoch 8/40\n",
      "2569/2569 [==============================] - 499s 194ms/step - loss: 0.3428 - accuracy: 0.8880 - val_loss: 0.0116 - val_accuracy: 0.9974\n",
      "Epoch 9/40\n",
      "2569/2569 [==============================] - 499s 194ms/step - loss: 0.3392 - accuracy: 0.8919 - val_loss: 0.0126 - val_accuracy: 0.9960\n",
      "Epoch 10/40\n",
      "2569/2569 [==============================] - 502s 195ms/step - loss: 0.3240 - accuracy: 0.8985 - val_loss: 0.0120 - val_accuracy: 0.9977\n",
      "Epoch 11/40\n",
      "2569/2569 [==============================] - 502s 195ms/step - loss: 0.3023 - accuracy: 0.9032 - val_loss: 0.0174 - val_accuracy: 0.9951\n",
      "Epoch 12/40\n",
      "2569/2569 [==============================] - 502s 196ms/step - loss: 0.2780 - accuracy: 0.9141 - val_loss: 0.0091 - val_accuracy: 0.9974\n",
      "Epoch 13/40\n",
      "2569/2569 [==============================] - 501s 195ms/step - loss: 0.2735 - accuracy: 0.9157 - val_loss: 0.0102 - val_accuracy: 0.9967\n",
      "Epoch 14/40\n",
      "2569/2569 [==============================] - 501s 195ms/step - loss: 0.2550 - accuracy: 0.9214 - val_loss: 0.0071 - val_accuracy: 0.9981\n",
      "Epoch 15/40\n",
      "2569/2569 [==============================] - 498s 194ms/step - loss: 0.2380 - accuracy: 0.9277 - val_loss: 0.0068 - val_accuracy: 0.9993\n",
      "Epoch 16/40\n",
      "2569/2569 [==============================] - 495s 193ms/step - loss: 0.2439 - accuracy: 0.9245 - val_loss: 0.0049 - val_accuracy: 0.9991\n",
      "Epoch 17/40\n",
      "2569/2569 [==============================] - 510s 198ms/step - loss: 0.2270 - accuracy: 0.9297 - val_loss: 0.0058 - val_accuracy: 0.9981\n",
      "Epoch 18/40\n",
      "2569/2569 [==============================] - 1501s 585ms/step - loss: 0.2269 - accuracy: 0.9310 - val_loss: 0.0067 - val_accuracy: 0.9981\n",
      "Epoch 19/40\n",
      "2569/2569 [==============================] - 505s 197ms/step - loss: 0.2321 - accuracy: 0.9278 - val_loss: 0.0065 - val_accuracy: 0.9979\n",
      "Epoch 20/40\n",
      "2569/2569 [==============================] - 2692s 1s/step - loss: 0.2281 - accuracy: 0.9329 - val_loss: 0.0083 - val_accuracy: 0.9979\n",
      "Epoch 21/40\n",
      "2569/2569 [==============================] - 542s 211ms/step - loss: 0.2035 - accuracy: 0.9351 - val_loss: 0.0056 - val_accuracy: 0.9981\n",
      "Epoch 22/40\n",
      "2569/2569 [==============================] - 537s 209ms/step - loss: 0.2056 - accuracy: 0.9395 - val_loss: 0.0071 - val_accuracy: 0.9986\n",
      "Epoch 23/40\n",
      "2569/2569 [==============================] - 541s 210ms/step - loss: 0.2095 - accuracy: 0.9384 - val_loss: 0.0053 - val_accuracy: 0.9981\n",
      "Epoch 24/40\n",
      "2569/2569 [==============================] - 503s 196ms/step - loss: 0.2055 - accuracy: 0.9390 - val_loss: 0.0053 - val_accuracy: 0.9986\n",
      "Epoch 25/40\n",
      "2569/2569 [==============================] - 499s 194ms/step - loss: 0.1912 - accuracy: 0.9435 - val_loss: 0.0057 - val_accuracy: 0.9988\n",
      "Epoch 26/40\n",
      "2569/2569 [==============================] - 511s 199ms/step - loss: 0.2008 - accuracy: 0.9422 - val_loss: 0.0092 - val_accuracy: 0.9972\n",
      "Epoch 27/40\n",
      "2569/2569 [==============================] - 507s 197ms/step - loss: 0.2027 - accuracy: 0.9394 - val_loss: 0.0079 - val_accuracy: 0.9970\n",
      "Epoch 28/40\n",
      "2569/2569 [==============================] - 506s 197ms/step - loss: 0.1975 - accuracy: 0.9429 - val_loss: 0.0033 - val_accuracy: 0.9988\n",
      "Epoch 29/40\n",
      "2569/2569 [==============================] - 500s 194ms/step - loss: 0.1978 - accuracy: 0.9408 - val_loss: 0.0036 - val_accuracy: 0.9986\n",
      "Epoch 30/40\n",
      "2569/2569 [==============================] - 505s 197ms/step - loss: 0.1877 - accuracy: 0.9437 - val_loss: 0.0035 - val_accuracy: 0.9993\n",
      "Epoch 31/40\n",
      "2569/2569 [==============================] - 506s 197ms/step - loss: 0.1854 - accuracy: 0.9451 - val_loss: 0.0046 - val_accuracy: 0.9984\n",
      "Epoch 32/40\n",
      "2569/2569 [==============================] - 501s 195ms/step - loss: 0.1887 - accuracy: 0.9460 - val_loss: 0.0043 - val_accuracy: 0.9986\n",
      "Epoch 33/40\n",
      "2569/2569 [==============================] - 500s 195ms/step - loss: 0.1806 - accuracy: 0.9460 - val_loss: 0.0050 - val_accuracy: 0.9993\n",
      "Epoch 34/40\n",
      "2569/2569 [==============================] - 497s 194ms/step - loss: 0.1901 - accuracy: 0.9458 - val_loss: 0.0036 - val_accuracy: 0.9993\n",
      "Epoch 35/40\n",
      "2569/2569 [==============================] - 501s 195ms/step - loss: 0.1849 - accuracy: 0.9485 - val_loss: 0.0031 - val_accuracy: 0.9991\n",
      "Epoch 36/40\n",
      "2569/2569 [==============================] - 504s 196ms/step - loss: 0.1731 - accuracy: 0.9505 - val_loss: 0.0032 - val_accuracy: 0.9993\n",
      "Epoch 37/40\n",
      "2569/2569 [==============================] - 503s 196ms/step - loss: 0.1913 - accuracy: 0.9465 - val_loss: 0.0087 - val_accuracy: 0.9970\n",
      "Epoch 38/40\n",
      "2569/2569 [==============================] - 500s 195ms/step - loss: 0.1813 - accuracy: 0.9489 - val_loss: 0.0049 - val_accuracy: 0.9986\n",
      "Epoch 39/40\n",
      "2569/2569 [==============================] - 506s 197ms/step - loss: 0.1746 - accuracy: 0.9486 - val_loss: 0.0071 - val_accuracy: 0.9981\n",
      "Epoch 40/40\n",
      "2569/2569 [==============================] - 500s 194ms/step - loss: 0.1644 - accuracy: 0.9514 - val_loss: 0.0070 - val_accuracy: 0.9979\n"
     ]
    },
    {
     "data": {
      "text/plain": [
       "<keras.src.callbacks.History at 0x1b753ca75d0>"
      ]
     },
     "execution_count": 15,
     "metadata": {},
     "output_type": "execute_result"
    }
   ],
   "source": [
    "classifier.fit(training_set,\n",
    "                  epochs = 40,\n",
    "                  validation_data = test_set)"
   ]
  },
  {
   "cell_type": "markdown",
   "metadata": {},
   "source": [
    "#### Saving the Model"
   ]
  },
  {
   "cell_type": "code",
   "execution_count": 16,
   "metadata": {},
   "outputs": [],
   "source": [
    "# model_json = classifier.to_json()\n",
    "# with open(\"model_new.json\", \"w\") as json_file:\n",
    "#     json_file.write(model_json)\n",
    "# print('Model Saved')\n",
    "# classifier.save_weights('model_new.h5')\n",
    "# print('Weights saved')"
   ]
  },
  {
   "cell_type": "code",
   "execution_count": 17,
   "metadata": {},
   "outputs": [
    {
     "name": "stdout",
     "output_type": "stream",
     "text": [
      "Model architecture saved at: model_new.json\n",
      "Model weights saved at: model_new.h5\n"
     ]
    }
   ],
   "source": [
    "model_json = classifier.to_json()\n",
    "\n",
    "# Specify the destination path for the JSON file (model architecture)\n",
    "destination_json_path = \"model_new.json\"\n",
    "with open(destination_json_path, \"w\") as json_file:\n",
    "    json_file.write(model_json)\n",
    "print('Model architecture saved at:', destination_json_path)\n",
    "\n",
    "# Specify the destination path for the HDF5 file (model weights)\n",
    "destination_weights_path = \"model_new.h5\"\n",
    "print('Model weights saved at:', destination_weights_path)\n"
   ]
  }
 ],
 "metadata": {
  "kernelspec": {
   "display_name": "Python 3",
   "language": "python",
   "name": "python3"
  },
  "language_info": {
   "codemirror_mode": {
    "name": "ipython",
    "version": 3
   },
   "file_extension": ".py",
   "mimetype": "text/x-python",
   "name": "python",
   "nbconvert_exporter": "python",
   "pygments_lexer": "ipython3",
   "version": "3.11.0"
  }
 },
 "nbformat": 4,
 "nbformat_minor": 2
}
